{
  "nbformat": 4,
  "nbformat_minor": 0,
  "metadata": {
    "colab": {
      "name": "ejercicios_numpy.ipynb",
      "provenance": [],
      "authorship_tag": "ABX9TyPbWOGezGKCa4y37KRRHPMR",
      "include_colab_link": true
    },
    "kernelspec": {
      "name": "python3",
      "display_name": "Python 3"
    },
    "language_info": {
      "name": "python"
    }
  },
  "cells": [
    {
      "cell_type": "markdown",
      "metadata": {
        "id": "view-in-github",
        "colab_type": "text"
      },
      "source": [
        "<a href=\"https://colab.research.google.com/github/javier290595/AID/blob/main/ejercicios_numpy.ipynb\" target=\"_parent\"><img src=\"https://colab.research.google.com/assets/colab-badge.svg\" alt=\"Open In Colab\"/></a>"
      ]
    },
    {
      "cell_type": "code",
      "metadata": {
        "colab": {
          "base_uri": "https://localhost:8080/"
        },
        "id": "jGrEywac_xoT",
        "outputId": "231ecf12-652d-48d3-86d0-a07a59b81496"
      },
      "source": [
        "#Arraydeunadimensión\n",
        "import numpy as np\n",
        "\n",
        "a1= np.array([1, 2, 3])\n",
        "print(a1)"
      ],
      "execution_count": 4,
      "outputs": [
        {
          "output_type": "stream",
          "text": [
            "[1 2 3]\n"
          ],
          "name": "stdout"
        }
      ]
    },
    {
      "cell_type": "code",
      "metadata": {
        "colab": {
          "base_uri": "https://localhost:8080/"
        },
        "id": "w2eu7MLwBgfS",
        "outputId": "82cdf992-9d83-41c4-9c23-1f4a855c6f73"
      },
      "source": [
        "#Arraydedosdimensiones\n",
        "a2=np.array([[1, 2, 3], [4, 5, 6]])\n",
        "print(a2)\n"
      ],
      "execution_count": 7,
      "outputs": [
        {
          "output_type": "stream",
          "text": [
            "[[1 2 3]\n",
            " [4 5 6]]\n"
          ],
          "name": "stdout"
        }
      ]
    },
    {
      "cell_type": "code",
      "metadata": {
        "colab": {
          "base_uri": "https://localhost:8080/"
        },
        "id": "Opa8AX2AGG0N",
        "outputId": "c5c2ae70-4818-4b56-87ba-58ef50f73e76"
      },
      "source": [
        "#Arraydetresdimensiones\n",
        "a3=np.array([[[1, 2, 3], [4, 5, 6]], [[7, 8, 9], [10, 11, 12]]])\n",
        "print(a3)"
      ],
      "execution_count": 8,
      "outputs": [
        {
          "output_type": "stream",
          "text": [
            "[[[ 1  2  3]\n",
            "  [ 4  5  6]]\n",
            "\n",
            " [[ 7  8  9]\n",
            "  [10 11 12]]]\n"
          ],
          "name": "stdout"
        }
      ]
    },
    {
      "cell_type": "code",
      "metadata": {
        "colab": {
          "base_uri": "https://localhost:8080/"
        },
        "id": "MHh6Buy1IsyT",
        "outputId": "fe37daa3-c6d3-4823-cf01-57aafcf105d4"
      },
      "source": [
        "print(np.zeros((3,2)))"
      ],
      "execution_count": 18,
      "outputs": [
        {
          "output_type": "stream",
          "text": [
            "[[0. 0.]\n",
            " [0. 0.]\n",
            " [0. 0.]]\n"
          ],
          "name": "stdout"
        }
      ]
    },
    {
      "cell_type": "code",
      "metadata": {
        "colab": {
          "base_uri": "https://localhost:8080/"
        },
        "id": "BXdCGdHMKUDx",
        "outputId": "553182c2-40ae-4ed9-c480-02dd8512942c"
      },
      "source": [
        "print(np.identity(3))"
      ],
      "execution_count": 25,
      "outputs": [
        {
          "output_type": "stream",
          "text": [
            "[[1. 0. 0.]\n",
            " [0. 1. 0.]\n",
            " [0. 0. 1.]]\n"
          ],
          "name": "stdout"
        }
      ]
    },
    {
      "cell_type": "code",
      "metadata": {
        "colab": {
          "base_uri": "https://localhost:8080/"
        },
        "id": "VTrN8WK6KyWq",
        "outputId": "f7f1cce3-3f47-4bef-9224-76a49339a169"
      },
      "source": [
        "print (np.arange(1,10,2))"
      ],
      "execution_count": 26,
      "outputs": [
        {
          "output_type": "stream",
          "text": [
            "[1 3 5 7 9]\n"
          ],
          "name": "stdout"
        }
      ]
    },
    {
      "cell_type": "code",
      "metadata": {
        "colab": {
          "base_uri": "https://localhost:8080/"
        },
        "id": "NIrN8qxMK6Rv",
        "outputId": "9f018655-9343-4f15-d9fb-543fa992d4e2"
      },
      "source": [
        "print (np.linspace(0,10,5))"
      ],
      "execution_count": 27,
      "outputs": [
        {
          "output_type": "stream",
          "text": [
            "[ 0.   2.5  5.   7.5 10. ]\n"
          ],
          "name": "stdout"
        }
      ]
    }
  ]
}