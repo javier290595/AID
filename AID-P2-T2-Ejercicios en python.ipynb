{
  "nbformat": 4,
  "nbformat_minor": 0,
  "metadata": {
    "colab": {
      "name": "Untitled1.ipynb",
      "provenance": [],
      "authorship_tag": "ABX9TyMALm7uj2HkkDhBSwanWybS",
      "include_colab_link": true
    },
    "kernelspec": {
      "name": "python3",
      "display_name": "Python 3"
    },
    "language_info": {
      "name": "python"
    }
  },
  "cells": [
    {
      "cell_type": "markdown",
      "metadata": {
        "id": "view-in-github",
        "colab_type": "text"
      },
      "source": [
        "<a href=\"https://colab.research.google.com/github/javier290595/AID/blob/main/AID-P2-T2-Ejercicios%20en%20python.ipynb\" target=\"_parent\"><img src=\"https://colab.research.google.com/assets/colab-badge.svg\" alt=\"Open In Colab\"/></a>"
      ]
    },
    {
      "cell_type": "markdown",
      "metadata": {
        "id": "pav5Qd5qw82z"
      },
      "source": [
        "1.-Escribir un programa que acceda a un fichero de internet mediante su url y muestre por pantalla el número de palabras que contiene."
      ]
    },
    {
      "cell_type": "code",
      "metadata": {
        "colab": {
          "base_uri": "https://localhost:8080/"
        },
        "id": "a8IrQSJNw8Pl",
        "outputId": "173aba19-633b-4dc5-d333-37d8f9359572"
      },
      "source": [
        "def palabras (url):\n",
        "    \n",
        "    from urllib import request\n",
        "    from urllib.error import URLError\n",
        "    try:\n",
        "        file = request.urlopen(url)\n",
        "    except URLError:\n",
        "        return('¡La url ' + url + ' no existe!')\n",
        "    else:\n",
        "        content = file.read()\n",
        "        return len(content.split())\n",
        "\n",
        "print(palabras('https://es.wikipedia.org/wiki/Dragon_Ball'))\n"
      ],
      "execution_count": 5,
      "outputs": [
        {
          "output_type": "stream",
          "text": [
            "29474\n"
          ],
          "name": "stdout"
        }
      ]
    },
    {
      "cell_type": "markdown",
      "metadata": {
        "id": "sqQXZwDA_ow_"
      },
      "source": [
        "2.-Escribir un programa que abra el fichero con información sobre el PIB per cápita de los países de la Unión Europea (url:https://ec.europa.eu/eurostat/estat-navtree-portlet-prod/BulkDownloadListing?file=data/sdg_08_10.tsv.gz&unzip=true), pregunte por las iniciales de un país y muestre el PIB per cápita de ese país de todos los años disponibles."
      ]
    },
    {
      "cell_type": "code",
      "metadata": {
        "colab": {
          "base_uri": "https://localhost:8080/"
        },
        "id": "5R0XcxgP_etT",
        "outputId": "3529bb80-1a60-49a5-cb30-e9c5d24e6576"
      },
      "source": [
        "def get_pib(url, country='ES'):\n",
        "   \n",
        "    from urllib import request\n",
        "    from urllib.error import URLError\n",
        "    try:\n",
        "        f = request.urlopen(url)\n",
        "    except URLError:\n",
        "        return('¡La url ' + url + ' no existe!')\n",
        "    else:\n",
        "        data = f.read().decode('utf-8').split('\\n')\n",
        "        data = [i.split('\\t') for i in data] \n",
        "        data = [list(map(str.strip, i)) for i in data]\n",
        "        for i in data:\n",
        "            i[0] = i[0].split(',')[-1] \n",
        "        data[0][0] = 'años'\n",
        "        data = {i[0]:i[1:] for i in data}\n",
        "        result = {data['años'][i]:data[country][i] for i in range(len(data['años']))}\n",
        "        return result\n",
        "\n",
        "country = input('código de un país: ')\n",
        "print('Producto Interior Bruto de:', country)\n",
        "print('Año', '\\t', 'PIB')\n",
        "for años, pib in get_pib('https://ec.europa.eu/eurostat/estat-navtree-portlet-prod/BulkDownloadListing?file=data/sdg_08_10.tsv.gz&unzip=true').items():\n",
        "    print(años, '\\t', pib)"
      ],
      "execution_count": 8,
      "outputs": [
        {
          "output_type": "stream",
          "text": [
            "código de un país: 1\n",
            "Producto Interior Bruto de: 1\n",
            "Año \t PIB\n",
            "2000 \t 21460\n",
            "2001 \t 22190\n",
            "2002 \t 22430\n",
            "2003 \t 22680\n",
            "2004 \t 23020\n",
            "2005 \t 23420\n",
            "2006 \t 24000\n",
            "2007 \t 24380\n",
            "2008 \t 24200\n",
            "2009 \t 23100\n",
            "2010 \t 23040\n",
            "2011 \t 22770\n",
            "2012 \t 22080\n",
            "2013 \t 21840\n",
            "2014 \t 22210\n",
            "2015 \t 23080\n",
            "2016 \t 23760\n",
            "2017 \t 24430\n",
            "2018 \t 24910 p\n",
            "2019 \t 25200 p\n",
            "2020 \t 22350 p\n"
          ],
          "name": "stdout"
        }
      ]
    },
    {
      "cell_type": "markdown",
      "metadata": {
        "id": "yvhwPoCEA-jo"
      },
      "source": [
        "3.-Escribir un programa para gestionar un listín telefónico con los nombres y los teléfonos de los clientes de una empresa. El programa incorporar funciones crear el fichero con el listín si no existe, para consultar el teléfono de un cliente, añadir el teléfono de un nuevo cliente y eliminar el teléfono de un cliente. El listín debe estar guardado en el fichero de texto listin.txt donde el nombre del cliente y su teléfono deben aparecer separados por comas y cada cliente en una línea distinta."
      ]
    },
    {
      "cell_type": "code",
      "metadata": {
        "colab": {
          "base_uri": "https://localhost:8080/"
        },
        "id": "9U58eOAYBJeA",
        "outputId": "f066fd4e-f5e4-451f-fba1-478d0177bde9"
      },
      "source": [
        "def get_phone(file, client):\n",
        "    \n",
        "    try: \n",
        "        f = open(file, 'r')\n",
        "    except FileNotFoundError:\n",
        "        return('¡El fichero ' + file + ' no existe!\\n')\n",
        "    else:\n",
        "        directory = f.readlines()\n",
        "        f.close()\n",
        "        directory = dict([tuple(line.split(',')) for line in directory])\n",
        "        if client in directory:\n",
        "            return directory[client]\n",
        "        else:\n",
        "            return('¡El cliente ' + client + ' no existe!\\n')\n",
        "\n",
        "\n",
        "def add_phone(file, client, telf):\n",
        "    \n",
        "    try: \n",
        "        f = open(file, 'a')\n",
        "    except FileNotFoundError:\n",
        "        return('¡El fichero ' + file + ' no existe!\\n')\n",
        "    else:\n",
        "        f.write(client + ',' + telf + '\\n')\n",
        "        f.close()\n",
        "        return('se ha añadido con exito.\\n')\n",
        "\n",
        "def remove_phone(file, client):\n",
        "    \n",
        "    try: \n",
        "        f = open(file, 'r')\n",
        "    except FileNotFoundError:\n",
        "        return('¡El fichero ' + file + ' no existe!\\n')\n",
        "    else:\n",
        "        directory = f.readlines()\n",
        "        f.close()\n",
        "        directory = dict([tuple(line.split(',')) for line in directory])\n",
        "        if client in directory:\n",
        "            del directory[client]\n",
        "            f = open(file, 'w')\n",
        "            for name, telf in directory.items():\n",
        "                f.write(name + ',' + telf)\n",
        "            f.close()\n",
        "            return ('¡se ha borrado!\\n')\n",
        "        else:\n",
        "            return('¡El cliente ' + client + ' no existe!\\n')\n",
        "\n",
        "\n",
        "def create_directory(file):\n",
        "    \n",
        "    import os\n",
        "    if os.path.isfile(file):\n",
        "        answer = input('El fichero ' + file + ' ya existe. ¿Desea vaciarlo (S/N)? ')\n",
        "        if answer == 'N': \n",
        "            return 'No se ha creado el fichero porque ya existe.\\n'\n",
        "    f = open(file, 'w')\n",
        "    f.close()\n",
        "    return 'Se ha creado el fichero.\\n'\n",
        "     \n",
        "\n",
        "def menu():\n",
        "    \n",
        "    print('Gesión del listín telefónico')\n",
        "    print('============================')\n",
        "    print('1 - Consultar un teléfono')\n",
        "    print('2 - Añadir un teléfono')\n",
        "    print('3 - Eliminar un teléfono')\n",
        "    print('4 - Crear el listín')\n",
        "    print('0 - Terminar')\n",
        "    option = input('Introduzca el número de la opción deseada: ')\n",
        "    return option\n",
        "\n",
        "\n",
        "def directory():\n",
        "    \n",
        "    file = 'listin.txt' \n",
        "    while True:\n",
        "        option = menu()\n",
        "        if option == '1':\n",
        "            name = input('Introduce el nombre del cliente: ')\n",
        "            print(get_phone(file, name))\n",
        "        elif option == '2':\n",
        "            name = input('Introduce el nombre del cliente: ')\n",
        "            telf = input('Introduce el teléfono del cliente: ')\n",
        "            print(add_phone(file, name, telf))\n",
        "        elif option == '3':\n",
        "            name = input('Introduce el nombre del cliente: ')\n",
        "            print(remove_phone(file, name))\n",
        "        elif option == '4':\n",
        "            print(create_directory(file))\n",
        "        else:\n",
        "            break\n",
        "    return\n",
        "\n",
        "directory()"
      ],
      "execution_count": 12,
      "outputs": [
        {
          "output_type": "stream",
          "text": [
            "Gesión del listín telefónico\n",
            "============================\n",
            "1 - Consultar un teléfono\n",
            "2 - Añadir un teléfono\n",
            "3 - Eliminar un teléfono\n",
            "4 - Crear el listín\n",
            "0 - Terminar\n",
            "Introduzca el número de la opción deseada: 1\n",
            "Introduce el nombre del cliente: oscar\n",
            "¡El fichero listin.txt no existe!\n",
            "\n",
            "Gesión del listín telefónico\n",
            "============================\n",
            "1 - Consultar un teléfono\n",
            "2 - Añadir un teléfono\n",
            "3 - Eliminar un teléfono\n",
            "4 - Crear el listín\n",
            "0 - Terminar\n",
            "Introduzca el número de la opción deseada: 0\n"
          ],
          "name": "stdout"
        }
      ]
    },
    {
      "cell_type": "markdown",
      "metadata": {
        "id": "aTGPJAstCa4E"
      },
      "source": [
        "4.-Escribir una función que aplique un descuento a un precio y otra que aplique el IVA a un precio. Escribir una tercera función que reciba un diccionario con los precios y porcentajes de una cesta de la compra, y una de las funciones anteriores, y utilice la función pasada para aplicar los descuentos o el IVA a los productos de la cesta y devolver el precio final de la cesta."
      ]
    },
    {
      "cell_type": "code",
      "metadata": {
        "colab": {
          "base_uri": "https://localhost:8080/"
        },
        "id": "6TWZDFrfC89t",
        "outputId": "98c930d0-6bd5-4a25-99db-65d77558208d"
      },
      "source": [
        "def aplicar_descuento(precio, discount):\n",
        "  \n",
        "    return precio - precio * discount / 100\n",
        "    \n",
        "def apply_IVA(precio, porcentaje):\n",
        "   \n",
        "    return precio + precio * porcentaje / 100\n",
        "\n",
        "def precio_basket(basket, function):\n",
        "   \n",
        "    total = 0\n",
        "    for precio, discount in basket.items():\n",
        "        total += function(precio, discount)\n",
        "    return total\n",
        "\n",
        "print('El precio de la compra con descuentos es: ', precio_basket({1000:20, 500:10, 100:1}, aplicar_descuento))\n",
        "print('El precio de la compra con el IVA es: ', precio_basket({1000:20, 500:10, 100:1}, apply_IVA))"
      ],
      "execution_count": 16,
      "outputs": [
        {
          "output_type": "stream",
          "text": [
            "El precio de la compra con descuentos es:  1349.0\n",
            "El precio de la compra con el IVA es:  1851.0\n"
          ],
          "name": "stdout"
        }
      ]
    },
    {
      "cell_type": "markdown",
      "metadata": {
        "id": "3UJc2lwxEeDs"
      },
      "source": [
        "5.-Escribir una función que simule una calculadora científica que permita calcular el seno, coseno, tangente, exponencial y logaritmo neperiano. La función preguntará al usuario el valor y la función a aplicar, y mostrará por pantalla una tabla con los enteros de 1 al valor introducido y el resultado de aplicar la función a esos enteros."
      ]
    },
    {
      "cell_type": "code",
      "metadata": {
        "colab": {
          "base_uri": "https://localhost:8080/"
        },
        "id": "Ea41SRZ7EzIG",
        "outputId": "52e444c3-964c-494b-c902-f8a403bac6d7"
      },
      "source": [
        "from math import sin, cos, tan, exp, log\n",
        "\n",
        "def apply_function(f, n):\n",
        "    \n",
        "    funcion = {'sin':sin, 'cos':cos, 'tan':tan, 'exp':exp, 'log':log}\n",
        "    result = {}\n",
        "    for i in range(1, n+1):\n",
        "        result[i] = funcion[f](i)\n",
        "    return result\n",
        "\n",
        "def calculator():\n",
        "    \n",
        "    f = input('función a aplicar (sin, cos, tan, exp, log): ')\n",
        "    n = int(input('Introduce un entero positivo: '))\n",
        "    for i, j in apply_function(f, n).items():\n",
        "        print (i, '\\t', j)\n",
        "    return\n",
        "\n",
        "calculator()"
      ],
      "execution_count": 20,
      "outputs": [
        {
          "output_type": "stream",
          "text": [
            "función a aplicar (sin, cos, tan, exp, log): log\n",
            "Introduce un entero positivo: 15\n",
            "1 \t 0.0\n",
            "2 \t 0.6931471805599453\n",
            "3 \t 1.0986122886681098\n",
            "4 \t 1.3862943611198906\n",
            "5 \t 1.6094379124341003\n",
            "6 \t 1.791759469228055\n",
            "7 \t 1.9459101490553132\n",
            "8 \t 2.0794415416798357\n",
            "9 \t 2.1972245773362196\n",
            "10 \t 2.302585092994046\n",
            "11 \t 2.3978952727983707\n",
            "12 \t 2.4849066497880004\n",
            "13 \t 2.5649493574615367\n",
            "14 \t 2.6390573296152584\n",
            "15 \t 2.70805020110221\n"
          ],
          "name": "stdout"
        }
      ]
    },
    {
      "cell_type": "markdown",
      "metadata": {
        "id": "vBtX4ShHF8HB"
      },
      "source": [
        "6.-Escribir una función reciba una lista de notas y devuelva la lista de calificaciones correspondientes a esas notas."
      ]
    },
    {
      "cell_type": "code",
      "metadata": {
        "colab": {
          "base_uri": "https://localhost:8080/"
        },
        "id": "I1STsDd-GIwz",
        "outputId": "89b7adc5-b5a2-4972-fc18-9a4b7c4de332"
      },
      "source": [
        "def calificacion(score):\n",
        "    \n",
        "    if score < 5:\n",
        "        return 'Reprobado'\n",
        "    elif score < 7:\n",
        "        return 'Aprobado'\n",
        "    elif score < 9:\n",
        "        return 'Excelente'\n",
        "    elif score < 10:\n",
        "        return 'Perfecto'\n",
        "    else:\n",
        "        return ''\n",
        "\n",
        "def apply_grade(scores):\n",
        "   \n",
        "    return list(map(calificacion, scores))\n",
        "\n",
        "print(apply_grade([6.5, 5, 3.4, 8.2, 2.1, 9.7, 10]))"
      ],
      "execution_count": 24,
      "outputs": [
        {
          "output_type": "stream",
          "text": [
            "['Aprobado', 'Aprobado', 'Reprobado', 'Excelente', 'Reprobado', 'Perfecto', '']\n"
          ],
          "name": "stdout"
        }
      ]
    },
    {
      "cell_type": "markdown",
      "metadata": {
        "id": "GNiuVJvRHX1U"
      },
      "source": [
        "7.-Corregir los errores sintácticos del siguiente programa:\n",
        "\n",
        "contraseña = input('Introduce la contraseña: \")\n",
        "\n",
        "if contraseña in ['sesamo'):\n",
        "\n",
        "print('Pasa')\n",
        "\n",
        "else\n",
        "\n",
        "print('No pasa')"
      ]
    },
    {
      "cell_type": "code",
      "metadata": {
        "colab": {
          "base_uri": "https://localhost:8080/"
        },
        "id": "lj_7Em1LHi1J",
        "outputId": "5f3cbedd-0011-4f61-916a-32bbc7f9e0cd"
      },
      "source": [
        "contraseña = input('Introduce la contraseña: ')\n",
        "if contraseña in ['sesamo']:\n",
        "    print('Pasa')\n",
        "else:\n",
        "    print('No pasa')"
      ],
      "execution_count": 25,
      "outputs": [
        {
          "output_type": "stream",
          "text": [
            "Introduce la contraseña: sesamo\n",
            "Pasa\n"
          ],
          "name": "stdout"
        }
      ]
    },
    {
      "cell_type": "markdown",
      "metadata": {
        "id": "LNGtMMWyIG83"
      },
      "source": [
        "8.-Detectar y corregir los errores del siguiente programa que aplica el iva a una factura:\n",
        "\n",
        "base = input('Introduce la base imponible de la factura: ')\n",
        "\n",
        "print(aplica_iva(base, iva))\n",
        "\n",
        "def aplica_iva(base, iva = 16):\n",
        "\n",
        "base = base * iva\n",
        "\n",
        "return base"
      ]
    },
    {
      "cell_type": "code",
      "metadata": {
        "colab": {
          "base_uri": "https://localhost:8080/"
        },
        "id": "aP548Cd_JxIJ",
        "outputId": "e5da9bf0-0a2a-4592-df93-7911ba495e30"
      },
      "source": [
        "base = float(input('Introduce la base imponible de la factura: '))\n",
        "\n",
        "def aplica_iva(base, iva = 21):\n",
        "    base += base * iva / 100  \n",
        "    return base \n",
        "\n",
        "print(aplica_iva(base))"
      ],
      "execution_count": 26,
      "outputs": [
        {
          "output_type": "stream",
          "text": [
            "Introduce la base imponible de la factura: 50\n",
            "60.5\n"
          ],
          "name": "stdout"
        }
      ]
    },
    {
      "cell_type": "markdown",
      "metadata": {
        "id": "EZeJieu7J-Mz"
      },
      "source": [
        "9.-Detectar y corregir los errores del siguiente programa que multiplica dos matrices:\n",
        "\n",
        "a = ((1, 2, 3),\n",
        "\n",
        "(3, 2, 1))\n",
        "\n",
        "b = ((1, 2),\n",
        "\n",
        "(3, 4),\n",
        "\n",
        "(5, 6))\n",
        "\n",
        "def producto(a, b):\n",
        "\n",
        "producto = []\n",
        "\n",
        "for i in range(len(b)):\n",
        "\n",
        "fila = []\n",
        "\n",
        "for j in range(len(a[0])):\n",
        "\n",
        "suma = 0\n",
        "\n",
        "for k in range(len(a[0]+1)):\n",
        "\n",
        "suma += a[i][k] * b[k+1][j]\n",
        "\n",
        "fila[j] = suma\n",
        "\n",
        "producto[i] = tuple(fila)\n",
        "\n",
        "return tuple(producto)\n",
        "\n",
        "print(producto(a, b))"
      ]
    },
    {
      "cell_type": "code",
      "metadata": {
        "colab": {
          "base_uri": "https://localhost:8080/"
        },
        "id": "l2VEDF1uKR9p",
        "outputId": "4e6a6afa-fcdd-424c-adb1-0450327bad6c"
      },
      "source": [
        "a = ((1, 2, 3),\n",
        "     (3, 2, 1))\n",
        "b = ((1, 2),\n",
        "     (3, 4),\n",
        "     (5, 6))\n",
        "\n",
        "def producto(a, b):\n",
        "    producto = []\n",
        "    for i in range(len(a)):\n",
        "        fila = [] \n",
        "        for j in range(len(b[0])):\n",
        "            suma = 0\n",
        "            for k in range(len(a[0])):\n",
        "                suma += a[i][k] * b[k][j]\n",
        "            fila.append(suma)\n",
        "        producto.append(tuple(fila))\n",
        "    return tuple(producto)\n",
        "\n",
        "print(producto(a, b))"
      ],
      "execution_count": 27,
      "outputs": [
        {
          "output_type": "stream",
          "text": [
            "((22, 28), (14, 20))\n"
          ],
          "name": "stdout"
        }
      ]
    },
    {
      "cell_type": "markdown",
      "metadata": {
        "id": "hbDE_POoKrkQ"
      },
      "source": [
        "10.-Detectar y corregir los errores del siguiente programa que calcula el producto escalar de dos vectores:\n",
        "\n",
        "u = (1, 2, 3)\n",
        "\n",
        "v = (4, 5, 6)\n",
        "\n",
        "def producto_escalar(u, v):\n",
        "\n",
        "for i in u:\n",
        "\n",
        "u[i+1] *= v[i+1]\n",
        "\n",
        "return sum(u)\n",
        "\n",
        "print(producto_escalar(u, v))"
      ]
    },
    {
      "cell_type": "code",
      "metadata": {
        "colab": {
          "base_uri": "https://localhost:8080/"
        },
        "id": "CsfHspqZKuyP",
        "outputId": "8cab3888-760a-4916-e21a-c3ed3dadda42"
      },
      "source": [
        "u = [1, 2, 3]\n",
        "v = [4, 5, 6]\n",
        "\n",
        "def producto_escalar(u, v):\n",
        "    for i in range(len(u)):\n",
        "        u[i] *= v[i]\n",
        "    return sum(u)\n",
        "\n",
        "print(producto_escalar(u, v))"
      ],
      "execution_count": 28,
      "outputs": [
        {
          "output_type": "stream",
          "text": [
            "32\n"
          ],
          "name": "stdout"
        }
      ]
    }
  ]
}