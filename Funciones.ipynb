{
  "nbformat": 4,
  "nbformat_minor": 0,
  "metadata": {
    "colab": {
      "name": "Funciones.ipynb",
      "provenance": [],
      "authorship_tag": "ABX9TyPZKvenv1ZWHkxA+Yb9000r",
      "include_colab_link": true
    },
    "kernelspec": {
      "name": "python3",
      "display_name": "Python 3"
    },
    "language_info": {
      "name": "python"
    }
  },
  "cells": [
    {
      "cell_type": "markdown",
      "metadata": {
        "id": "view-in-github",
        "colab_type": "text"
      },
      "source": [
        "<a href=\"https://colab.research.google.com/github/javier290595/AID/blob/main/Funciones.ipynb\" target=\"_parent\"><img src=\"https://colab.research.google.com/assets/colab-badge.svg\" alt=\"Open In Colab\"/></a>"
      ]
    },
    {
      "cell_type": "code",
      "metadata": {
        "id": "fMhGpPKhNeP7"
      },
      "source": [
        "#Declaracion de Funciones\n",
        "\n",
        "#Funcion sin parametros\n",
        "def funcion1 ():\n",
        "    #Contenido de la funcion\n",
        "    print ('Haz llamado a la funcion 1')\n",
        "\n",
        "\n",
        "#Funcion con parametros y retorno\n",
        "def funcion2 (a,b):\n",
        "    #Contenido de la funcion\n",
        "    #Esto realiza la suma de esta función\n",
        "    c= int(a)+int(b)\n",
        "    return c"
      ],
      "execution_count": 5,
      "outputs": []
    },
    {
      "cell_type": "code",
      "metadata": {
        "colab": {
          "base_uri": "https://localhost:8080/"
        },
        "id": "ojbXI3dXOH5i",
        "outputId": "b5a8df58-413a-4a91-8f80-355f8a54fe9f"
      },
      "source": [
        "#Llamamos las funciones declaradas en otro archivo\n",
        "#from FuncionesExternas import *\n",
        "\n",
        "#Invocamos las funciones\n",
        "funcion1()\n",
        "#Invocamos la otra funcion\n",
        "Q=input ('Introduzca un dato: ')\n",
        "W=input ('Introduzca otro dato: ')\n",
        "print(funcion2(Q,W) )"
      ],
      "execution_count": 8,
      "outputs": [
        {
          "output_type": "stream",
          "text": [
            "Haz llamado a la funcion 1\n",
            "Introduzca un dato: 10\n",
            "Introduzca otro dato: 4\n",
            "14\n"
          ],
          "name": "stdout"
        }
      ]
    }
  ]
}