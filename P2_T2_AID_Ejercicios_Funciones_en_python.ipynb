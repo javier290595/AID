{
  "nbformat": 4,
  "nbformat_minor": 0,
  "metadata": {
    "colab": {
      "name": "P2-T2-AID-Ejercicios Funciones en python.ipynb",
      "provenance": [],
      "authorship_tag": "ABX9TyM3rOYSRj0Nm0AueGSf3oHA",
      "include_colab_link": true
    },
    "kernelspec": {
      "name": "python3",
      "display_name": "Python 3"
    },
    "language_info": {
      "name": "python"
    }
  },
  "cells": [
    {
      "cell_type": "markdown",
      "metadata": {
        "id": "view-in-github",
        "colab_type": "text"
      },
      "source": [
        "<a href=\"https://colab.research.google.com/github/javier290595/AID/blob/main/P2_T2_AID_Ejercicios_Funciones_en_python.ipynb\" target=\"_parent\"><img src=\"https://colab.research.google.com/assets/colab-badge.svg\" alt=\"Open In Colab\"/></a>"
      ]
    },
    {
      "cell_type": "markdown",
      "metadata": {
        "id": "NA0CyIWTV79s"
      },
      "source": [
        "**Ejercicio 1**\n",
        "\n",
        "Escribir una función que calcule el total de una factura tras aplicarle el IVA. La función debe recibir la cantidad sin IVA y el porcentaje de IVA a aplicar, y devolver el total de la factura. Si se invoca la función sin pasarle el porcentaje de IVA, deberá aplicar un 21%.\n"
      ]
    },
    {
      "cell_type": "code",
      "metadata": {
        "colab": {
          "base_uri": "https://localhost:8080/"
        },
        "id": "4aeUDWTQV9rW",
        "outputId": "61a2c7a3-2f31-4649-e336-1d8492983be6"
      },
      "source": [
        "def invoice(cantidad_siniva, iva=21):\n",
        "     \n",
        "  \n",
        "    return cantidad_siniva + cantidad_siniva*iva/100\n",
        "\n",
        "print(invoice(1000,10))\n",
        "print(invoice(1000))"
      ],
      "execution_count": 65,
      "outputs": [
        {
          "output_type": "stream",
          "text": [
            "1100.0\n",
            "1210.0\n"
          ],
          "name": "stdout"
        }
      ]
    },
    {
      "cell_type": "markdown",
      "metadata": {
        "id": "2NVFh216WOF0"
      },
      "source": [
        "*********************************************"
      ]
    },
    {
      "cell_type": "markdown",
      "metadata": {
        "id": "KGqrgmUVXo_f"
      },
      "source": [
        "**Ejercicio 2**\n",
        "\n",
        "Escribir una función que calcule el área de un círculo y otra que calcule el volumen de un cilindro usando la primera función"
      ]
    },
    {
      "cell_type": "code",
      "metadata": {
        "colab": {
          "base_uri": "https://localhost:8080/"
        },
        "id": "MpMUOKn7YUpd",
        "outputId": "089a053f-f780-4356-f9ed-48d07bd16ff8"
      },
      "source": [
        "def area_circulo (radio):\n",
        "    \n",
        "    pi = 3.1416\n",
        "    return pi*radio**2\n",
        "\n",
        "def volume_cilindro(radio, altura):\n",
        "   \n",
        "    return area_circulo(radio)*altura\n",
        "\n",
        "print(volume_cilindro(6,10))"
      ],
      "execution_count": 67,
      "outputs": [
        {
          "output_type": "stream",
          "text": [
            "1130.976\n"
          ],
          "name": "stdout"
        }
      ]
    },
    {
      "cell_type": "markdown",
      "metadata": {
        "id": "4TqMds5rb6q4"
      },
      "source": [
        "**************************************"
      ]
    },
    {
      "cell_type": "markdown",
      "metadata": {
        "id": "EmFBFesyb8TI"
      },
      "source": [
        "**Ejercicio 3**\n",
        "\n",
        "Escribir una función que reciba una muestra de números en una lista y devuelva su media.\n"
      ]
    },
    {
      "cell_type": "code",
      "metadata": {
        "colab": {
          "base_uri": "https://localhost:8080/"
        },
        "id": "72WIeCBIcPEg",
        "outputId": "56e7dd87-9e70-4d25-e50d-1f8ef107b5b1"
      },
      "source": [
        "def mean(lista):\n",
        "    \n",
        "    return sum(lista)/len(lista)\n",
        "\n",
        "print (mean([6, 7, 8, 9, 10]))\n"
      ],
      "execution_count": 26,
      "outputs": [
        {
          "output_type": "stream",
          "text": [
            "8.0\n"
          ],
          "name": "stdout"
        }
      ]
    },
    {
      "cell_type": "markdown",
      "metadata": {
        "id": "iVQkIeIMds3C"
      },
      "source": [
        "***********************************"
      ]
    },
    {
      "cell_type": "markdown",
      "metadata": {
        "id": "YmW6Twj0dyxw"
      },
      "source": [
        "**Ejercicio 4**\n",
        "\n",
        "Escribir una función que reciba una muestra de números en una lista y devuelva otra lista con sus cuadrados.\n",
        "\n",
        "\n"
      ]
    },
    {
      "cell_type": "code",
      "metadata": {
        "colab": {
          "base_uri": "https://localhost:8080/"
        },
        "id": "R8-o8yQMdxGI",
        "outputId": "093b1b63-9294-49c6-bbfa-aafbaf20e1b0"
      },
      "source": [
        "def square(lista_numeros):\n",
        "    list = []\n",
        "    for i in lista_numeros:\n",
        "        list.append(i**2)\n",
        "    return list\n",
        "\n",
        "print(square([2, 4, 5, 8, 12]))\n"
      ],
      "execution_count": 28,
      "outputs": [
        {
          "output_type": "stream",
          "text": [
            "[4, 16, 25, 64, 144]\n"
          ],
          "name": "stdout"
        }
      ]
    },
    {
      "cell_type": "markdown",
      "metadata": {
        "id": "JuOJD-FkfE9E"
      },
      "source": [
        "****************"
      ]
    },
    {
      "cell_type": "markdown",
      "metadata": {
        "id": "sF71BeFEfJMJ"
      },
      "source": [
        "**Ejercicio 5**\n",
        "\n",
        "Escribir una función que reciba una muestra de números en una lista y devuelva un diccionario con su media, varianza y desviación típica.\n",
        "\n"
      ]
    },
    {
      "cell_type": "code",
      "metadata": {
        "id": "T8FSE37mfXDl",
        "colab": {
          "base_uri": "https://localhost:8080/"
        },
        "outputId": "13d57c5a-fbec-47df-9bda-0e6e432dc535"
      },
      "source": [
        "def square(lista_numeros):\n",
        "   \n",
        "    list = []\n",
        "    for i in lista_numeros:\n",
        "        list.append(i**2)\n",
        "    return list\n",
        "\n",
        "def statistics(lista_numeros):\n",
        "    \n",
        "    stat = {}\n",
        "    stat['media'] = sum(lista_numeros)/len(lista_numeros)\n",
        "    stat['varianza'] = sum(square(lista_numeros))/len(lista_numeros)-stat['media']**2\n",
        "    stat['desviacion tipica'] = stat['varianza']**0.5\n",
        "    return stat\n",
        "\n",
        "print(statistics([6, 7, 8, 9, 10]))\n"
      ],
      "execution_count": 35,
      "outputs": [
        {
          "output_type": "stream",
          "text": [
            "{'media': 8.0, 'varianza': 2.0, 'desviacion tipica': 1.4142135623730951}\n"
          ],
          "name": "stdout"
        }
      ]
    },
    {
      "cell_type": "markdown",
      "metadata": {
        "id": "g_3q841gg8Iz"
      },
      "source": [
        "**********************"
      ]
    },
    {
      "cell_type": "markdown",
      "metadata": {
        "id": "G22uA7AOg9MV"
      },
      "source": [
        "**Ejercicio 6**\n",
        "\n",
        "Escribir una función que calcule el máximo común divisor de dos números y otra que calcule el mínimo común múltiplo."
      ]
    },
    {
      "cell_type": "code",
      "metadata": {
        "colab": {
          "base_uri": "https://localhost:8080/"
        },
        "id": "ppvPtwBthQis",
        "outputId": "41e27f31-be90-4053-fe61-5c88a4f74c33"
      },
      "source": [
        "def maximo_comun_divisor(num_entero, num_entero2):\n",
        "    \n",
        "    resto = 0\n",
        "    while(num_entero2 > 0):\n",
        "        resto = num_entero2\n",
        "        num_entero2 = num_entero % num_entero2\n",
        "        num_entero = resto\n",
        "    return num_entero\n",
        "\n",
        "def minimo_comun_multiplo(num_entero, num_entero2):\n",
        "    \n",
        "    if num_entero > num_entero2:\n",
        "        mayor = num_entero\n",
        "    else:\n",
        "        mayor = num_entero2\n",
        "    while (mayor % num_entero != 0) or (mayor % num_entero2 != 0):\n",
        "        mayor += 1\n",
        "    return mayor\n",
        "\n",
        "print(maximo_comun_divisor(48,58))\n",
        "print(minimo_comun_multiplo(48,58))\n"
      ],
      "execution_count": 48,
      "outputs": [
        {
          "output_type": "stream",
          "text": [
            "2\n",
            "1392\n"
          ],
          "name": "stdout"
        }
      ]
    },
    {
      "cell_type": "markdown",
      "metadata": {
        "id": "iwtlxaiQjxci"
      },
      "source": [
        "**Ejercicio 7**\n",
        "\n",
        "Escribir una función que convierta un número decimal en binario y otra que convierta un número binario en decimal."
      ]
    },
    {
      "cell_type": "code",
      "metadata": {
        "colab": {
          "base_uri": "https://localhost:8080/"
        },
        "id": "qiLlb68ykrj8",
        "outputId": "94c1a43e-7f45-424a-fa99-1822c058af3c"
      },
      "source": [
        "def decimal(n):\n",
        "   \n",
        "    n = list(n)\n",
        "    n.reverse()\n",
        "    decimal = 0\n",
        "    for i in range(len(n)):\n",
        "        decimal += int(n[i]) * 2 ** i\n",
        "    return decimal\n",
        "\n",
        "def binario(n):\n",
        "    \n",
        "    binary = []\n",
        "    while n > 0:\n",
        "        binary.append(str(n % 2))\n",
        "        n //= 2\n",
        "    binary.reverse()\n",
        "    return ''.join(binary)\n",
        "\n",
        "print(decimal('100'))\n",
        "print(binario(11))\n",
        "print(decimal(to_binary(11)))\n",
        "print(binario(decimal('100')))"
      ],
      "execution_count": 54,
      "outputs": [
        {
          "output_type": "stream",
          "text": [
            "4\n",
            "1011\n",
            "11\n",
            "100\n"
          ],
          "name": "stdout"
        }
      ]
    },
    {
      "cell_type": "markdown",
      "metadata": {
        "id": "K_jnKAG4lVAo"
      },
      "source": [
        "*************************"
      ]
    },
    {
      "cell_type": "markdown",
      "metadata": {
        "id": "fnKqRydLlPme"
      },
      "source": [
        "**Ejercicio 8**\n",
        "\n",
        "Escribir un programa que reciba una cadena de caracteres y devuelva un diccionario con cada palabra que contiene y su frecuencia. Escribir otra función que reciba el diccionario generado con la función anterior y devuelva una tupla con la palabra más repetida y su frecuencia."
      ]
    },
    {
      "cell_type": "code",
      "metadata": {
        "id": "tBw9BH53lbJa",
        "colab": {
          "base_uri": "https://localhost:8080/"
        },
        "outputId": "1144a546-7e24-40fa-a939-5b7a48bbfde4"
      },
      "source": [
        "def conteo_palabras(text):\n",
        "    \"\"\"Función que cuenta el número de veces que aparece cada palabra en un texto.\n",
        "    Parámetros:\n",
        "        - text: Es una cadena de caracteres.\n",
        "    Devuelve: \n",
        "        Un diccionario con pares palabra:frecuencia con las palabras contenidas en el texto y su frecuencia.\n",
        "    \"\"\"\n",
        "    texto = text.split()\n",
        "    palabras = {}\n",
        "    for i in texto:\n",
        "        if i in palabras:\n",
        "            palabras[i] += 1\n",
        "        else:\n",
        "            palabras[i] = 1\n",
        "    return palabras\n",
        "\n",
        "def repetido(palabras):\n",
        "    max_word = ''\n",
        "    max_freq = 0\n",
        "    for word, freq in palabras.items():\n",
        "        if freq > max_freq:\n",
        "            max_word = word\n",
        "            max_freq = freq\n",
        "    return max_word, max_freq\n",
        "\n",
        "texto = 'pepe pecas pica papas con un pico pepe pecas pica papas'\n",
        "print(conteo_palabras(texto))\n",
        "print(repetido(conteo_palabras(texto)))"
      ],
      "execution_count": 64,
      "outputs": [
        {
          "output_type": "stream",
          "text": [
            "{'pepe': 2, 'pecas': 2, 'pica': 2, 'papas': 2, 'con': 1, 'un': 1, 'pico': 1}\n",
            "('pepe', 2)\n"
          ],
          "name": "stdout"
        }
      ]
    }
  ]
}